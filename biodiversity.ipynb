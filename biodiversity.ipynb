{
 "cells": [
  {
   "cell_type": "markdown",
   "metadata": {},
   "source": [
    "# Project Title\n",
    "\n",
    "## Introduction\n",
    "\n",
    "In this section, briefly describe:\n",
    "- **Goal of the analysis** — What are you trying to achieve?\n",
    "- **Key question(s)** — The main problem(s) or topic(s) you aim to answer.\n",
    "- **Context or background** — Why this question matters, and any relevant domain info."
   ]
  },
  {
   "cell_type": "markdown",
   "metadata": {},
   "source": [
    "## Table of Contents\n",
    "1. [Overview](#Introduction)\n",
    "\n",
    "2. [Setup & Scope](#setup--scope)\n",
    "\n",
    "3. [Data Exploration](#data)\n",
    "\n",
    "4. [Analysis](#Analysis)\n",
    "\n",
    "5. [Conclusions](#Conclusions)"
   ]
  },
  {
   "cell_type": "markdown",
   "metadata": {},
   "source": [
    "## Setup & Scope \n",
    "\n",
    "This analysis is based on a dataset provided by Codecademy, inspired by information from the U.S. National Parks Service. It focuses on endangered species observed across various national parks and aims to uncover patterns in species vulnerability and distribution.\n",
    "\n",
    "The following key questions guide the scope of this report:\n",
    "- Which biological categories (e.g., mammals, birds, plants) are most affected by endangerment?\n",
    "- What are the top ten most critically endangered species?\n",
    "- Are certain national parks home to a higher concentration of endangered species?\n",
    "- How are endangered species distributed across parks and categories?\n",
    "- How does conservation status vary across different species categories?\n",
    "- Which endangered species have the highest number of recorded observations?\n",
    "\n",
    "## Python Libraries"
   ]
  },
  {
   "cell_type": "code",
   "execution_count": 1,
   "metadata": {},
   "outputs": [],
   "source": [
    "# Data handling\n",
    "import numpy as np\n",
    "import pandas as pd\n",
    "\n",
    "# Visualization\n",
    "from matplotlib import pyplot as plt\n",
    "import seaborn as sns"
   ]
  },
  {
   "cell_type": "markdown",
   "metadata": {},
   "source": [
    "## Data Exploration\n",
    "\n",
    "### Observations\n",
    "- The observations fiie has the following columns:  \n",
    "* Scientifc name - the scientific name of the animal/plant\n",
    "* park name - name of the park \n",
    "* observations - number of observations of the creature/plant in the park, with values between 109 and 563 "
   ]
  },
  {
   "cell_type": "code",
   "execution_count": 2,
   "metadata": {},
   "outputs": [
    {
     "data": {
      "text/html": [
       "<div>\n",
       "<style scoped>\n",
       "    .dataframe tbody tr th:only-of-type {\n",
       "        vertical-align: middle;\n",
       "    }\n",
       "\n",
       "    .dataframe tbody tr th {\n",
       "        vertical-align: top;\n",
       "    }\n",
       "\n",
       "    .dataframe thead th {\n",
       "        text-align: right;\n",
       "    }\n",
       "</style>\n",
       "<table border=\"1\" class=\"dataframe\">\n",
       "  <thead>\n",
       "    <tr style=\"text-align: right;\">\n",
       "      <th></th>\n",
       "      <th>scientific_name</th>\n",
       "      <th>park_name</th>\n",
       "      <th>observations</th>\n",
       "    </tr>\n",
       "  </thead>\n",
       "  <tbody>\n",
       "    <tr>\n",
       "      <th>0</th>\n",
       "      <td>Vicia benghalensis</td>\n",
       "      <td>Great Smoky Mountains National Park</td>\n",
       "      <td>68</td>\n",
       "    </tr>\n",
       "    <tr>\n",
       "      <th>1</th>\n",
       "      <td>Neovison vison</td>\n",
       "      <td>Great Smoky Mountains National Park</td>\n",
       "      <td>77</td>\n",
       "    </tr>\n",
       "    <tr>\n",
       "      <th>2</th>\n",
       "      <td>Prunus subcordata</td>\n",
       "      <td>Yosemite National Park</td>\n",
       "      <td>138</td>\n",
       "    </tr>\n",
       "    <tr>\n",
       "      <th>3</th>\n",
       "      <td>Abutilon theophrasti</td>\n",
       "      <td>Bryce National Park</td>\n",
       "      <td>84</td>\n",
       "    </tr>\n",
       "    <tr>\n",
       "      <th>4</th>\n",
       "      <td>Githopsis specularioides</td>\n",
       "      <td>Great Smoky Mountains National Park</td>\n",
       "      <td>85</td>\n",
       "    </tr>\n",
       "  </tbody>\n",
       "</table>\n",
       "</div>"
      ],
      "text/plain": [
       "            scientific_name                            park_name  observations\n",
       "0        Vicia benghalensis  Great Smoky Mountains National Park            68\n",
       "1            Neovison vison  Great Smoky Mountains National Park            77\n",
       "2         Prunus subcordata               Yosemite National Park           138\n",
       "3      Abutilon theophrasti                  Bryce National Park            84\n",
       "4  Githopsis specularioides  Great Smoky Mountains National Park            85"
      ]
     },
     "execution_count": 2,
     "metadata": {},
     "output_type": "execute_result"
    }
   ],
   "source": [
    "observations = pd.read_csv('observations.csv')\n",
    "observations.head()"
   ]
  },
  {
   "cell_type": "markdown",
   "metadata": {},
   "source": [
    "\n",
    "- species_info: a file with data about each creature:\n",
    "\n",
    " * Category - the category that the animal/plant belongs to - (Bird/Mammal/Plant/etc)\n",
    " * Scientific name - the scientific name of the animal\n",
    " * Common names - the common names for the animal/plant \n",
    " * Conservation status - the status of conservation - can be Endangered, Threatend,   \n"
   ]
  },
  {
   "cell_type": "code",
   "execution_count": 3,
   "metadata": {},
   "outputs": [
    {
     "data": {
      "text/html": [
       "<div>\n",
       "<style scoped>\n",
       "    .dataframe tbody tr th:only-of-type {\n",
       "        vertical-align: middle;\n",
       "    }\n",
       "\n",
       "    .dataframe tbody tr th {\n",
       "        vertical-align: top;\n",
       "    }\n",
       "\n",
       "    .dataframe thead th {\n",
       "        text-align: right;\n",
       "    }\n",
       "</style>\n",
       "<table border=\"1\" class=\"dataframe\">\n",
       "  <thead>\n",
       "    <tr style=\"text-align: right;\">\n",
       "      <th></th>\n",
       "      <th>category</th>\n",
       "      <th>scientific_name</th>\n",
       "      <th>common_names</th>\n",
       "      <th>conservation_status</th>\n",
       "    </tr>\n",
       "  </thead>\n",
       "  <tbody>\n",
       "    <tr>\n",
       "      <th>0</th>\n",
       "      <td>Mammal</td>\n",
       "      <td>Clethrionomys gapperi gapperi</td>\n",
       "      <td>Gapper's Red-Backed Vole</td>\n",
       "      <td>NaN</td>\n",
       "    </tr>\n",
       "    <tr>\n",
       "      <th>1</th>\n",
       "      <td>Mammal</td>\n",
       "      <td>Bos bison</td>\n",
       "      <td>American Bison, Bison</td>\n",
       "      <td>NaN</td>\n",
       "    </tr>\n",
       "    <tr>\n",
       "      <th>2</th>\n",
       "      <td>Mammal</td>\n",
       "      <td>Bos taurus</td>\n",
       "      <td>Aurochs, Aurochs, Domestic Cattle (Feral), Dom...</td>\n",
       "      <td>NaN</td>\n",
       "    </tr>\n",
       "    <tr>\n",
       "      <th>3</th>\n",
       "      <td>Mammal</td>\n",
       "      <td>Ovis aries</td>\n",
       "      <td>Domestic Sheep, Mouflon, Red Sheep, Sheep (Feral)</td>\n",
       "      <td>NaN</td>\n",
       "    </tr>\n",
       "    <tr>\n",
       "      <th>4</th>\n",
       "      <td>Mammal</td>\n",
       "      <td>Cervus elaphus</td>\n",
       "      <td>Wapiti Or Elk</td>\n",
       "      <td>NaN</td>\n",
       "    </tr>\n",
       "  </tbody>\n",
       "</table>\n",
       "</div>"
      ],
      "text/plain": [
       "  category                scientific_name  \\\n",
       "0   Mammal  Clethrionomys gapperi gapperi   \n",
       "1   Mammal                      Bos bison   \n",
       "2   Mammal                     Bos taurus   \n",
       "3   Mammal                     Ovis aries   \n",
       "4   Mammal                 Cervus elaphus   \n",
       "\n",
       "                                        common_names conservation_status  \n",
       "0                           Gapper's Red-Backed Vole                 NaN  \n",
       "1                              American Bison, Bison                 NaN  \n",
       "2  Aurochs, Aurochs, Domestic Cattle (Feral), Dom...                 NaN  \n",
       "3  Domestic Sheep, Mouflon, Red Sheep, Sheep (Feral)                 NaN  \n",
       "4                                      Wapiti Or Elk                 NaN  "
      ]
     },
     "execution_count": 3,
     "metadata": {},
     "output_type": "execute_result"
    }
   ],
   "source": [
    "species = pd.read_csv('species_info.csv')\n",
    "species.head()"
   ]
  },
  {
   "cell_type": "markdown",
   "metadata": {},
   "source": [
    "\n",
    "By examining the species_info file we can notice that we have several scientific name duplicates, for example canis lupus appears three times with different converstaion status, Vireo solitarius appears twice, one with two common names. \n",
    "Also, the conversation status has nan values for not endagered species, so thee is a need to replace it with a non endangered string instead. \n",
    "By using dtypes, info and describe we can confirm that except the observations which is an int, all the other variables are objects, matching the categorical variables in all those categories. \n",
    "\n",
    "\n",
    "## Cleaning and formatting the Data:\n",
    "\n",
    "- observations: going over the data found several identical observations, meaning same scientific name, same park, same number of observations, since there are not timestamps or any other discerning metric, i treated them as duplicates and removed them. No nan values where found. \n",
    "\n",
    "- species_info: Here its more complex. There are several rows with the same category and scientific name, but can have different or more than one common name and different conservation status. Since common names is not an analyzable parameter, i ingored it and decided to keep the last row that appears in the csv, where the reasoning is that this is the latest updated entry to the file, which lacks any kind of timestamps to confirm or deny. \n",
    "\n",
    "The Conservation Status column contains 5,633 missing values (NaNs), indicating that no data is available for the conservation status of these species. I replaced these missing entries with the label \"No Intervention\" to maintain consistency in the dataset. However, this substitution limits our ability to accurately interpret or infer the true conservation status of these species, especially given the small sample size relative to the broader population. The absence of conservation status for certain species is often not missing at random, as it reflects underlying biases in research attention and resource allocation.\n",
    "\n",
    "\n",
    "- for observation amount based analysis i add a column of each secientific name sum of total observations in the observations.csv file. "
   ]
  },
  {
   "cell_type": "code",
   "execution_count": 10,
   "metadata": {},
   "outputs": [
    {
     "name": "stdout",
     "output_type": "stream",
     "text": [
      "0\n",
      "            category       scientific_name  \\\n",
      "5600  Vascular Plant        Holcus lanatus   \n",
      "4475          Mammal     Castor canadensis   \n",
      "4799  Vascular Plant  Hypochaeris radicata   \n",
      "4451          Mammal         Puma concolor   \n",
      "4459          Mammal         Procyon lotor   \n",
      "...              ...                   ...   \n",
      "4601       Amphibian          Rana sierrae   \n",
      "570             Fish       Noturus baileyi   \n",
      "276             Bird   Vermivora bachmanii   \n",
      "9             Mammal           Canis rufus   \n",
      "173             Bird        Grus americana   \n",
      "\n",
      "                                           common_names conservation_status  \\\n",
      "5600     Common Velvetgrass, Velvetgrass, Yorkshire Fog     No Intervention   \n",
      "4475                                             Beaver     No Intervention   \n",
      "4799  Common Cat's-Ear, False Dandelion, Frogbit, Go...     No Intervention   \n",
      "4451                                      Mountain Lion     No Intervention   \n",
      "4459                                            Raccoon     No Intervention   \n",
      "...                                                 ...                 ...   \n",
      "4601                   Sierra Nevada Yellow-Legged Frog          Endangered   \n",
      "570                                        Smoky Madtom          Endangered   \n",
      "276           Bachman's Warbler, Bachman's Wood Warbler          Endangered   \n",
      "9                                              Red Wolf          Endangered   \n",
      "173                                      Whooping Crane          Endangered   \n",
      "\n",
      "      observations  \n",
      "5600          1780  \n",
      "4475          1725  \n",
      "4799          1720  \n",
      "4451          1711  \n",
      "4459          1692  \n",
      "...            ...  \n",
      "4601           144  \n",
      "570            143  \n",
      "276            141  \n",
      "9              137  \n",
      "173            131  \n",
      "\n",
      "[5541 rows x 5 columns]\n",
      "['No Intervention' 'Species of Concern' 'Endangered' 'Threatened'\n",
      " 'In Recovery']\n"
     ]
    }
   ],
   "source": [
    "## Check for missing values\n",
    "observations.isnull().sum()\n",
    "species.isnull().sum()\n",
    "\n",
    "# check for duplicates in the 'observations' DataFrame\n",
    "print(observations.duplicated(keep=False).sum())\n",
    "\n",
    "# drop the duplicated rows\n",
    "observations.drop_duplicates(inplace=True)\n",
    "\n",
    "# fill NaN values in the 'conservation_status' column with 'Unknown'\n",
    "species['conservation_status'] = species['conservation_status'].fillna('Unknown') \n",
    "\n",
    "# check for duplicates in the 'species_info' DataFrame - where category and scientific_name are the same\n",
    "dup_mask = species[species.duplicated(subset=[\"category\", \"scientific_name\"], keep=False)].sort_values(by=[\"scientific_name\"])\n",
    "species = species.drop_duplicates(subset=[\"category\", \"scientific_name\"], keep='last')\n",
    "\n",
    "# Count the number of observations for each species and add it to the species DataFrame \n",
    "obs_counts = observations.groupby('scientific_name')['observations'].sum()\n",
    "species['observations'] = species['scientific_name'].map(obs_counts)\n"
   ]
  },
  {
   "cell_type": "markdown",
   "metadata": {},
   "source": [
    "## Data Exploartion\n",
    "\n",
    "- observations : there are 23281 rows in the observations file, with 5541 unique species and 4 parks. \n",
    "The most observerd species is the Holcus lanatus with 1780 observations across all parks. \n",
    "The least observed species is Grus americana with only 131 observations across all parks. \n",
    "The observetions per park are distributes equaly, each park is about 25% of all the sample size. \n",
    "The observations per species are also distributed equally, each one gets about 0.01% of the sample size. "
   ]
  },
  {
   "cell_type": "code",
   "execution_count": 68,
   "metadata": {},
   "outputs": [
    {
     "name": "stdout",
     "output_type": "stream",
     "text": [
      "Total observations 23281\n",
      "Most observed Species: Holcus lanatus with 1780 observations in total\n",
      "Least observerd Species: Grus americana with 131 observations in total\n",
      "Total number of unique species: 5541\n",
      "Total number of parks: 4\n",
      "park distribution:\n",
      "park_name\n",
      "Bryce National Park                    25.011812\n",
      "Yosemite National Park                 25.003222\n",
      "Yellowstone National Park              24.994631\n",
      "Great Smoky Mountains National Park    24.990335\n",
      "Name: proportion, dtype: float64\n",
      "park distribution:\n",
      "scientific_name\n",
      "Abies bifolia                          0.017181\n",
      "Abies concolor                         0.017181\n",
      "Abies fraseri                          0.017181\n",
      "Abietinella abietina                   0.017181\n",
      "Abronia ammophila                      0.017181\n",
      "                                         ...   \n",
      "Zonotrichia leucophrys gambelii        0.017181\n",
      "Zonotrichia leucophrys oriantha        0.017181\n",
      "Zonotrichia querula                    0.017181\n",
      "Zygodon viridissimus                   0.017181\n",
      "Zygodon viridissimus var. rupestris    0.017181\n",
      "Name: proportion, Length: 5541, dtype: float64\n"
     ]
    }
   ],
   "source": [
    "print(f\"Total observations {observations.shape[0]}\")\n",
    "print(f\"Most observed Species: {observations.groupby('scientific_name')['observations'].sum().idxmax()} with {observations.groupby('scientific_name')['observations'].sum().max()} observations in total\")\n",
    "print(f\"Least observerd Species: {observations.groupby('scientific_name')['observations'].sum().idxmin()} with {observations.groupby('scientific_name')['observations'].sum().min()} observations in total\")\n",
    "print(f\"Total number of unique species: {observations.scientific_name.nunique()}\")\n",
    "print(f\"Total number of parks: {observations.park_name.nunique()}\")\n",
    "print(f\"park distribution:\\n{observations.park_name.value_counts(normalize=True)*100}\")\n",
    "print(f\"park distribution:\\n{observations.scientific_name.value_counts(normalize=True).sort_index()*100}\")"
   ]
  },
  {
   "cell_type": "markdown",
   "metadata": {},
   "source": [
    "- species info :\n",
    "Just like in observations, species info also has 5541 different species, 7 types of species, and 5 possible conversation status\n",
    "\n",
    "By examining the categories we can see that vascular plant makes the majority with 76.9 of all the data, where all the other categories have a single digit percentage of all the data, with fish, amphibian and reptile have a one two percentage of it. (maybe add theories why is that, locations, researcher bias, etc)\n",
    "\n",
    "By examining the conversation stauts we can see that 96.7 is classfied as unknown, which might point to an sampling mistake or MAR or something. "
   ]
  },
  {
   "cell_type": "code",
   "execution_count": 59,
   "metadata": {},
   "outputs": [
    {
     "name": "stdout",
     "output_type": "stream",
     "text": [
      "number of Species 5541\n",
      "types of Species: 7\n",
      "types of Species: ['No Intervention' 'Species of Concern' 'Endangered' 'Threatened'\n",
      " 'In Recovery']\n",
      "category\n",
      "Vascular Plant       76.917524\n",
      "Bird                  8.807075\n",
      "Nonvascular Plant     6.009746\n",
      "Mammal                3.176322\n",
      "Fish                  2.255910\n",
      "Amphibian             1.425735\n",
      "Reptile               1.407688\n",
      "Name: proportion, dtype: float64\n",
      "conservation_status\n",
      "No Intervention       96.769536\n",
      "Species of Concern     2.725140\n",
      "Endangered             0.270709\n",
      "Threatened             0.180473\n",
      "In Recovery            0.054142\n",
      "Name: proportion, dtype: float64\n"
     ]
    }
   ],
   "source": [
    "print(f\"number of Species {species.shape[0]}\")\n",
    "print(f\"types of Species: {species.category.nunique()}\")\n",
    "print(f\"types of Species: {species.conservation_status.unique()}\")\n",
    "print(species.category.value_counts(normalize=True)*100)\n",
    "print(species.conservation_status.value_counts(normalize=True)*100)"
   ]
  },
  {
   "cell_type": "markdown",
   "metadata": {},
   "source": [
    "## Analysis\n",
    "- Which biological categories (e.g., mammals, birds, plants) are most affected by endangerment? - mammals \n",
    "\n",
    "- What are the top ten most critically endangered species?\n",
    "\n",
    "- Are certain national parks home to a higher concentration of endangered species?\n",
    "\n",
    "- How are endangered species distributed across parks and categories?\n",
    "\n",
    "From the species with endangered conservation status, mammals is the most enangered category. \n",
    "\n",
    "The top ten most endangered species in this data set are: \n",
    "- Canis lupus\n",
    "- Etheostoma percnurum\n",
    "- Geum radiatum,Myotis grisescens,\n",
    "- Gymnogyps californianus\n",
    "- Glaucomys sabrinus coloratus           \n",
    "- Ovis canadensis sierrae           \n",
    "- Picoides borealis           \n",
    "- Chasmistes liorus           \n",
    "- Myotis sodalis           \n",
    "\n",
    "\n"
   ]
  },
  {
   "cell_type": "code",
   "execution_count": 111,
   "metadata": {},
   "outputs": [
    {
     "name": "stdout",
     "output_type": "stream",
     "text": [
      "Endangered species by category:         category  count\n",
      "3          Mammal      6\n",
      "1            Bird      4\n",
      "2            Fish      3\n",
      "0       Amphibian      1\n",
      "4  Vascular Plant      1\n",
      "\n",
      "Top Ten most endangered species:                   scientific_name        category\n",
      "4448                   Canis lupus          Mammal\n",
      "540           Etheostoma percnurum            Fish\n",
      "2497                 Geum radiatum  Vascular Plant\n",
      "34               Myotis grisescens          Mammal\n",
      "4505       Gymnogyps californianus            Bird\n",
      "72    Glaucomys sabrinus coloratus          Mammal\n",
      "4446       Ovis canadensis sierrae          Mammal\n",
      "343              Picoides borealis            Bird\n",
      "3275             Chasmistes liorus            Fish\n",
      "39                  Myotis sodalis          Mammal\n",
      "\n",
      "endangered_species_by_park:\n",
      "               park_name   sum  percentage\n",
      "2            Yellowstone  1228   43.888492\n",
      "3               Yosemite   747   26.697641\n",
      "0                  Bryce   489   17.476769\n",
      "1  Great Smoky Mountains   334   11.937098\n",
      "\n"
     ]
    },
    {
     "name": "stderr",
     "output_type": "stream",
     "text": [
      "C:\\Users\\Yoav\\AppData\\Local\\Temp\\ipykernel_22368\\4261291128.py:18: FutureWarning: \n",
      "\n",
      "Passing `palette` without assigning `hue` is deprecated and will be removed in v0.14.0. Assign the `x` variable to `hue` and set `legend=False` for the same effect.\n",
      "\n",
      "  sns.barplot(data=endangered_species_by_park, x='park_name', y='sum', palette='viridis')\n"
     ]
    },
    {
     "data": {
      "text/plain": [
       "Text(0, 0.5, 'Total observations of Endangered Species')"
      ]
     },
     "execution_count": 111,
     "metadata": {},
     "output_type": "execute_result"
    },
    {
     "data": {
      "image/png": "[encoded data removed]",
      "text/plain": [
       "<Figure size 640x480 with 1 Axes>"
      ]
     },
     "metadata": {},
     "output_type": "display_data"
    }
   ],
   "source": [
    "endangered_species = species[species['conservation_status'] == 'Endangered'].groupby('category').size().reset_index(name='count').sort_values(\n",
    "    by='count', ascending=False)\n",
    "    \n",
    "print(f\"Endangered species by category:{endangered_species}\\n\")\n",
    "\n",
    "print(f\"Top Ten most endangered species:{species[species[\n",
    "    'conservation_status'] == 'Endangered'].nlargest(10, 'observations')[['scientific_name', 'category']]}\\n\")\n",
    "\n",
    "endangered_species_by_park = observations[\n",
    "    observations['scientific_name'].isin(\n",
    "        species[species['conservation_status'] == 'Endangered']['scientific_name']\n",
    "    )\n",
    "].groupby('park_name')['observations'].sum().reset_index(name='sum').sort_values(by='sum', ascending=False)\n",
    "endangered_species_by_park['park_name'] = endangered_species_by_park['park_name'].str.replace(' National Park', '', regex=False)\n",
    "endangered_species_by_park['percentage'] = (endangered_species_by_park['sum'] * 100 / endangered_species_by_park['sum'].sum())\n",
    "print(f\"endangered_species_by_park:\\n{endangered_species_by_park}\\n\")\n",
    "\n",
    "sns.barplot(data=endangered_species_by_park, x='park_name', y='sum', palette='viridis')\n",
    "plt.title('Endangered Species Observations by Park')\n",
    "plt.xlabel('National Park')\n",
    "plt.ylabel('Total observations of Endangered Species')"
   ]
  },
  {
   "cell_type": "markdown",
   "metadata": {},
   "source": [
    "- How does conservation status vary across different species categories?\n",
    "- Which endangered species have the highest number of recorded observations?\n",
    "\n",
    "\n",
    "In this combined section, cover:\n",
    "- **Approach** — The methods you used to explore and answer the question.\n",
    "- **Exploratory findings** — Summary stats, plots, correlations.\n",
    "- **Techniques applied** — Statistical tests, models, transformations, etc.\n",
    "- **Results** — Tables, charts, metrics.\n",
    "- **Interpretation** — What the results mean for the original question."
   ]
  },
  {
   "cell_type": "markdown",
   "metadata": {},
   "source": [
    "## Conclusions\n",
    "\n",
    "Summarize:\n",
    "- **Main takeaway** — The answer to your original question.\n",
    "- **Implications** — How results could be used or acted upon.\n",
    "- **Limitations** — Gaps in data, assumptions, or methods.\n",
    "- **Next steps** — Further analyses, data to collect, or experiments to run.\n"
   ]
  }
 ],
 "metadata": {
  "kernelspec": {
   "display_name": "Python 3",
   "language": "python",
   "name": "python3"
  },
  "language_info": {
   "codemirror_mode": {
    "name": "ipython",
    "version": 3
   },
   "file_extension": ".py",
   "mimetype": "text/x-python",
   "name": "python",
   "nbconvert_exporter": "python",
   "pygments_lexer": "ipython3",
   "version": "3.13.7"
  }
 },
 "nbformat": 4,
 "nbformat_minor": 4
}
