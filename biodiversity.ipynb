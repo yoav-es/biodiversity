{
 "cells": [
  {
   "cell_type": "markdown",
   "metadata": {},
   "source": [
    "# Project Title\n",
    "\n",
    "## Introduction\n",
    "\n",
    "In this section, briefly describe:\n",
    "- **Goal of the analysis** — What are you trying to achieve?\n",
    "- **Key question(s)** — The main problem(s) or topic(s) you aim to answer.\n",
    "- **Context or background** — Why this question matters, and any relevant domain info."
   ]
  },
  {
   "cell_type": "markdown",
   "metadata": {},
   "source": [
    "## Table of Contents\n",
    "1. [Overview](#Introduction)\n",
    "\n",
    "2. [Setup & Scope](#setup--scope)\n",
    "\n",
    "3. [Data](#data)\n",
    "\n",
    "4. [Analysis](#Analysis)\n",
    "\n",
    "5. [Conclusions](#Conclusions)"
   ]
  },
  {
   "cell_type": "markdown",
   "metadata": {},
   "source": [
    "## Setup & Scope \n",
    "\n",
    "- **Data source(s)** — Where the data comes from and how it was obtained.\n",
    "- **Scope and boundaries** — What’s included, what’s out of scope, and any assumptions.\n",
    "- **Success criteria** — How you’ll judge whether the analysis answers the question.\n",
    "\n",
    "*Keep this concise — 3 to 6 sentences is plenty.*"
   ]
  },
  {
   "cell_type": "code",
   "execution_count": 2,
   "metadata": {},
   "outputs": [],
   "source": [
    "# Data handling\n",
    "import numpy as np\n",
    "import pandas as pd\n",
    "\n",
    "# Visualization\n",
    "from matplotlib import pyplot as plt\n",
    "import seaborn as sns\n"
   ]
  },
  {
   "cell_type": "markdown",
   "metadata": {},
   "source": [
    "## Data\n",
    "\n",
    "Describe: The dataset from Codecademy is inspired by information from the National Parks Service on endangered species across various parks.\n",
    "\n",
    "- **Data source(s)** — two data files based on \n",
    "- **Data description** — Number of rows/columns, variable types, key fields.\n",
    "- **Data dictionary** — What each column means.\n",
    "- **Quality notes** — Missing values, potential biases, limitations.\n",
    "- **Pre‑processing steps** — Cleaning, formatting, feature engineering.\n",
    "\n"
   ]
  },
  {
   "cell_type": "code",
   "execution_count": 19,
   "metadata": {},
   "outputs": [
    {
     "data": {
      "text/plain": [
       "scientific_name            0\n",
       "park_name                  0\n",
       "observations               0\n",
       "category                   0\n",
       "common_names               0\n",
       "conservation_status    24752\n",
       "dtype: int64"
      ]
     },
     "execution_count": 19,
     "metadata": {},
     "output_type": "execute_result"
    }
   ],
   "source": [
    "observations = pd.read_csv('observations.csv')\n",
    "species = pd.read_csv('species_info.csv')\n",
    "# species.info()\n",
    "data = pd.merge(observations, species, on='scientific_name', how='left')\n",
    "data.head()\n",
    "data.isnull().sum()  # Check for missing values in the 'sum' column\n"
   ]
  },
  {
   "cell_type": "markdown",
   "metadata": {},
   "source": [
    "## Analysis\n",
    "\n",
    "In this combined section, cover:\n",
    "- **Approach** — The methods you used to explore and answer the question.\n",
    "- **Exploratory findings** — Summary stats, plots, correlations.\n",
    "- **Techniques applied** — Statistical tests, models, transformations, etc.\n",
    "- **Results** — Tables, charts, metrics.\n",
    "- **Interpretation** — What the results mean for the original question."
   ]
  },
  {
   "cell_type": "markdown",
   "metadata": {},
   "source": [
    "## Conclusions\n",
    "\n",
    "Summarize:\n",
    "- **Main takeaway** — The answer to your original question.\n",
    "- **Implications** — How results could be used or acted upon.\n",
    "- **Limitations** — Gaps in data, assumptions, or methods.\n",
    "- **Next steps** — Further analyses, data to collect, or experiments to run.\n"
   ]
  }
 ],
 "metadata": {
  "kernelspec": {
   "display_name": "Python 3",
   "language": "python",
   "name": "python3"
  },
  "language_info": {
   "codemirror_mode": {
    "name": "ipython",
    "version": 3
   },
   "file_extension": ".py",
   "mimetype": "text/x-python",
   "name": "python",
   "nbconvert_exporter": "python",
   "pygments_lexer": "ipython3",
   "version": "3.13.7"
  }
 },
 "nbformat": 4,
 "nbformat_minor": 4
}
