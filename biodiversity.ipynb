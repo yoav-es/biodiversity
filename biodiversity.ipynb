{
 "cells": [
  {
   "cell_type": "markdown",
   "metadata": {},
   "source": [
    "# Project Title\n",
    "\n",
    "## Introduction\n",
    "\n",
    "In this section, briefly describe:\n",
    "- **Goal of the analysis** — What are you trying to achieve?\n",
    "- **Key question(s)** — The main problem(s) or topic(s) you aim to answer.\n",
    "- **Context or background** — Why this question matters, and any relevant domain info."
   ]
  },
  {
   "cell_type": "markdown",
   "metadata": {},
   "source": [
    "## Table of Contents\n",
    "1. [Overview](#Introduction)\n",
    "\n",
    "2. [Setup & Scope](#setup--scope)\n",
    "\n",
    "3. [Data Exploration](#data)\n",
    "\n",
    "4. [Analysis](#Analysis)\n",
    "\n",
    "5. [Conclusions](#Conclusions)"
   ]
  },
  {
   "cell_type": "markdown",
   "metadata": {},
   "source": [
    "## Setup & Scope \n",
    "\n",
    "This analysis is based on a dataset provided by Codecademy, inspired by information from the U.S. National Parks Service. It focuses on endangered species observed across various national parks and aims to uncover patterns in species vulnerability and distribution.\n",
    "\n",
    "The following key questions guide the scope of this report:\n",
    "- Which biological categories (e.g., mammals, birds, plants) are most affected by endangerment?\n",
    "- What are the top ten most critically endangered species?\n",
    "- Are certain national parks home to a higher concentration of endangered species?\n",
    "- How are endangered species distributed across parks and categories?\n",
    "- How does conservation status vary across different species categories?\n",
    "- Which endangered species have the highest number of recorded observations?\n",
    "\n",
    "## Python Libraries"
   ]
  },
  {
   "cell_type": "code",
   "execution_count": 109,
   "metadata": {},
   "outputs": [],
   "source": [
    "# Data handling\n",
    "import numpy as np\n",
    "import pandas as pd\n",
    "\n",
    "# Visualization\n",
    "from matplotlib import pyplot as plt\n",
    "import seaborn as sns"
   ]
  },
  {
   "cell_type": "markdown",
   "metadata": {},
   "source": [
    "## Data Exploration\n",
    "\n",
    "### Observations\n",
    "\n",
    "The data is sourced from two files: \n",
    "- observations: a file containig the amount of observations in each park, for each animal, mentioned in its scientific name. \n"
   ]
  },
  {
   "cell_type": "code",
   "execution_count": 106,
   "metadata": {},
   "outputs": [
    {
     "data": {
      "text/html": [
       "<div>\n",
       "<style scoped>\n",
       "    .dataframe tbody tr th:only-of-type {\n",
       "        vertical-align: middle;\n",
       "    }\n",
       "\n",
       "    .dataframe tbody tr th {\n",
       "        vertical-align: top;\n",
       "    }\n",
       "\n",
       "    .dataframe thead th {\n",
       "        text-align: right;\n",
       "    }\n",
       "</style>\n",
       "<table border=\"1\" class=\"dataframe\">\n",
       "  <thead>\n",
       "    <tr style=\"text-align: right;\">\n",
       "      <th></th>\n",
       "      <th>scientific_name</th>\n",
       "      <th>park_name</th>\n",
       "      <th>observations</th>\n",
       "    </tr>\n",
       "  </thead>\n",
       "  <tbody>\n",
       "    <tr>\n",
       "      <th>0</th>\n",
       "      <td>Vicia benghalensis</td>\n",
       "      <td>Great Smoky Mountains National Park</td>\n",
       "      <td>68</td>\n",
       "    </tr>\n",
       "    <tr>\n",
       "      <th>1</th>\n",
       "      <td>Neovison vison</td>\n",
       "      <td>Great Smoky Mountains National Park</td>\n",
       "      <td>77</td>\n",
       "    </tr>\n",
       "    <tr>\n",
       "      <th>2</th>\n",
       "      <td>Prunus subcordata</td>\n",
       "      <td>Yosemite National Park</td>\n",
       "      <td>138</td>\n",
       "    </tr>\n",
       "    <tr>\n",
       "      <th>3</th>\n",
       "      <td>Abutilon theophrasti</td>\n",
       "      <td>Bryce National Park</td>\n",
       "      <td>84</td>\n",
       "    </tr>\n",
       "    <tr>\n",
       "      <th>4</th>\n",
       "      <td>Githopsis specularioides</td>\n",
       "      <td>Great Smoky Mountains National Park</td>\n",
       "      <td>85</td>\n",
       "    </tr>\n",
       "  </tbody>\n",
       "</table>\n",
       "</div>"
      ],
      "text/plain": [
       "            scientific_name                            park_name  observations\n",
       "0        Vicia benghalensis  Great Smoky Mountains National Park            68\n",
       "1            Neovison vison  Great Smoky Mountains National Park            77\n",
       "2         Prunus subcordata               Yosemite National Park           138\n",
       "3      Abutilon theophrasti                  Bryce National Park            84\n",
       "4  Githopsis specularioides  Great Smoky Mountains National Park            85"
      ]
     },
     "execution_count": 106,
     "metadata": {},
     "output_type": "execute_result"
    }
   ],
   "source": [
    "observations = pd.read_csv('observations.csv')\n",
    "observations.head()"
   ]
  },
  {
   "cell_type": "markdown",
   "metadata": {},
   "source": [
    "\n",
    "- species_info: a file containing information about the species, including category (mammal, bird, etc ),scientific_name,common_names and conservation_status. \n"
   ]
  },
  {
   "cell_type": "code",
   "execution_count": 111,
   "metadata": {},
   "outputs": [
    {
     "data": {
      "text/html": [
       "<div>\n",
       "<style scoped>\n",
       "    .dataframe tbody tr th:only-of-type {\n",
       "        vertical-align: middle;\n",
       "    }\n",
       "\n",
       "    .dataframe tbody tr th {\n",
       "        vertical-align: top;\n",
       "    }\n",
       "\n",
       "    .dataframe thead th {\n",
       "        text-align: right;\n",
       "    }\n",
       "</style>\n",
       "<table border=\"1\" class=\"dataframe\">\n",
       "  <thead>\n",
       "    <tr style=\"text-align: right;\">\n",
       "      <th></th>\n",
       "      <th>category</th>\n",
       "      <th>scientific_name</th>\n",
       "      <th>common_names</th>\n",
       "      <th>conservation_status</th>\n",
       "    </tr>\n",
       "  </thead>\n",
       "  <tbody>\n",
       "    <tr>\n",
       "      <th>0</th>\n",
       "      <td>Mammal</td>\n",
       "      <td>Clethrionomys gapperi gapperi</td>\n",
       "      <td>Gapper's Red-Backed Vole</td>\n",
       "      <td>NaN</td>\n",
       "    </tr>\n",
       "    <tr>\n",
       "      <th>1</th>\n",
       "      <td>Mammal</td>\n",
       "      <td>Bos bison</td>\n",
       "      <td>American Bison, Bison</td>\n",
       "      <td>NaN</td>\n",
       "    </tr>\n",
       "    <tr>\n",
       "      <th>2</th>\n",
       "      <td>Mammal</td>\n",
       "      <td>Bos taurus</td>\n",
       "      <td>Aurochs, Aurochs, Domestic Cattle (Feral), Domesticated Cattle</td>\n",
       "      <td>NaN</td>\n",
       "    </tr>\n",
       "    <tr>\n",
       "      <th>3</th>\n",
       "      <td>Mammal</td>\n",
       "      <td>Ovis aries</td>\n",
       "      <td>Domestic Sheep, Mouflon, Red Sheep, Sheep (Feral)</td>\n",
       "      <td>NaN</td>\n",
       "    </tr>\n",
       "    <tr>\n",
       "      <th>4</th>\n",
       "      <td>Mammal</td>\n",
       "      <td>Cervus elaphus</td>\n",
       "      <td>Wapiti Or Elk</td>\n",
       "      <td>NaN</td>\n",
       "    </tr>\n",
       "  </tbody>\n",
       "</table>\n",
       "</div>"
      ],
      "text/plain": [
       "  category                scientific_name  \\\n",
       "0   Mammal  Clethrionomys gapperi gapperi   \n",
       "1   Mammal                      Bos bison   \n",
       "2   Mammal                     Bos taurus   \n",
       "3   Mammal                     Ovis aries   \n",
       "4   Mammal                 Cervus elaphus   \n",
       "\n",
       "                                                     common_names  \\\n",
       "0                                        Gapper's Red-Backed Vole   \n",
       "1                                           American Bison, Bison   \n",
       "2  Aurochs, Aurochs, Domestic Cattle (Feral), Domesticated Cattle   \n",
       "3               Domestic Sheep, Mouflon, Red Sheep, Sheep (Feral)   \n",
       "4                                                   Wapiti Or Elk   \n",
       "\n",
       "  conservation_status  \n",
       "0                 NaN  \n",
       "1                 NaN  \n",
       "2                 NaN  \n",
       "3                 NaN  \n",
       "4                 NaN  "
      ]
     },
     "execution_count": 111,
     "metadata": {},
     "output_type": "execute_result"
    }
   ],
   "source": [
    "species = pd.read_csv('species_info.csv')\n",
    "species.head()"
   ]
  },
  {
   "cell_type": "markdown",
   "metadata": {},
   "source": [
    "\n",
    "By examining the species_info file we can notice that we have several scientific name duplicates, for example canis lupus appears three times with different converstaion status, Vireo solitarius appears twice, one with two common names. \n",
    "Also, the conversation status has nan values for not endagered species, so thee is a need to replace it with a non endangered string instead. \n",
    "By using dtypes, info and describe we can confirm that except the observations which is an int, all the other variables are objects, matching the categorical variables in all those categories. \n",
    "\n",
    "\n",
    "## Cleaning and formatting the Data:\n",
    "\n",
    "- observations: going over the data found several identical observations, meaning same scientific name, same park, same number of observations, since there are not timestamps or any other discerning metric, i treated them as duplicates and removed them. No nan values where found. \n",
    "\n",
    "- species_info: Here its more complex. There are several rows with the same category and scientific name, but can have different or more than one common name and different conservation status. Since common names is not an analyzable parameter, i ingored it and decided to keep the last row that appears in the csv, where the reasoning is that this is the latest updated entry to the file, which lacks any kind of timestamps to confirm or deny. \n",
    "The Conversation status column has 5633 nan values, meaning there is no data about the conversation status of these species, which i replaced with \"No Intervention\", but wont be able to identify which stauts is using the data, since the lack of sample size in relation to the general population. \n",
    "\n",
    "- for observation amount based analysis i add a column of each secientific name sum of total observations in the observations.csv file. "
   ]
  },
  {
   "cell_type": "code",
   "execution_count": null,
   "metadata": {},
   "outputs": [],
   "source": [
    "## Check for missing values\n",
    "observations.isnull().sum()\n",
    "species.isnull().sum()\n",
    "\n",
    "# check for duplicates in the 'observations' DataFrame\n",
    "print(observations.duplicated(keep=False).sum())\n",
    "\n",
    "# drop the duplicated rows \n",
    "observations.drop_duplicates(inplace=True)\n",
    "species['conservation_status'] = species['conservation_status'].fillna('No Intervention')  # Fill NaN values with 'No Intervention'\n",
    "\n",
    "# check for duplicates in the 'species_info' DataFrame - where category and scientific_name are the same\n",
    "dup_mask = species[species.duplicated(subset=[\"category\", \"scientific_name\"], keep=False)].sort_values(by=[\"scientific_name\"])\n",
    "species = species.drop_duplicates(subset=[\"category\", \"scientific_name\"], keep='last')\n",
    "\n",
    "# Count the number of observations for each species and add it to the species DataFrame \n",
    "obs_counts = observations.groupby('scientific_name')['observations'].sum()\n",
    "species['observations'] = species['scientific_name'].map(obs_counts)\n",
    "print(species.sort_values(by='observations', ascending=False))\n"
   ]
  },
  {
   "cell_type": "markdown",
   "metadata": {},
   "source": [
    "## Data Exploartion\n",
    "\n",
    "- observations \n",
    "\n",
    "- How is each file looks like? \n",
    "\n",
    "- general statistics \n",
    "\n",
    "- comments about the data \n"
   ]
  },
  {
   "cell_type": "code",
   "execution_count": 112,
   "metadata": {},
   "outputs": [
    {
     "name": "stdout",
     "output_type": "stream",
     "text": [
      "<class 'pandas.core.frame.DataFrame'>\n",
      "RangeIndex: 23296 entries, 0 to 23295\n",
      "Data columns (total 3 columns):\n",
      " #   Column           Non-Null Count  Dtype \n",
      "---  ------           --------------  ----- \n",
      " 0   scientific_name  23296 non-null  object\n",
      " 1   park_name        23296 non-null  object\n",
      " 2   observations     23296 non-null  int64 \n",
      "dtypes: int64(1), object(2)\n",
      "memory usage: 546.1+ KB\n"
     ]
    },
    {
     "data": {
      "text/plain": [
       "scientific_name    object\n",
       "park_name          object\n",
       "observations        int64\n",
       "dtype: object"
      ]
     },
     "execution_count": 112,
     "metadata": {},
     "output_type": "execute_result"
    }
   ],
   "source": [
    "observations.info()\n",
    "observations.describe(include='all')\n",
    "observations.dtypes"
   ]
  },
  {
   "cell_type": "markdown",
   "metadata": {},
   "source": [
    "- species info "
   ]
  },
  {
   "cell_type": "code",
   "execution_count": 113,
   "metadata": {},
   "outputs": [
    {
     "name": "stdout",
     "output_type": "stream",
     "text": [
      "<class 'pandas.core.frame.DataFrame'>\n",
      "RangeIndex: 5824 entries, 0 to 5823\n",
      "Data columns (total 4 columns):\n",
      " #   Column               Non-Null Count  Dtype \n",
      "---  ------               --------------  ----- \n",
      " 0   category             5824 non-null   object\n",
      " 1   scientific_name      5824 non-null   object\n",
      " 2   common_names         5824 non-null   object\n",
      " 3   conservation_status  191 non-null    object\n",
      "dtypes: object(4)\n",
      "memory usage: 182.1+ KB\n"
     ]
    },
    {
     "data": {
      "text/plain": [
       "category               object\n",
       "scientific_name        object\n",
       "common_names           object\n",
       "conservation_status    object\n",
       "dtype: object"
      ]
     },
     "execution_count": 113,
     "metadata": {},
     "output_type": "execute_result"
    }
   ],
   "source": [
    "species.info()\n",
    "species.describe(include='all')\n",
    "species.dtypes"
   ]
  },
  {
   "cell_type": "markdown",
   "metadata": {},
   "source": [
    "## Analysis\n",
    "\n",
    "In this combined section, cover:\n",
    "- **Approach** — The methods you used to explore and answer the question.\n",
    "- **Exploratory findings** — Summary stats, plots, correlations.\n",
    "- **Techniques applied** — Statistical tests, models, transformations, etc.\n",
    "- **Results** — Tables, charts, metrics.\n",
    "- **Interpretation** — What the results mean for the original question."
   ]
  },
  {
   "cell_type": "markdown",
   "metadata": {},
   "source": [
    "## Conclusions\n",
    "\n",
    "Summarize:\n",
    "- **Main takeaway** — The answer to your original question.\n",
    "- **Implications** — How results could be used or acted upon.\n",
    "- **Limitations** — Gaps in data, assumptions, or methods.\n",
    "- **Next steps** — Further analyses, data to collect, or experiments to run.\n"
   ]
  }
 ],
 "metadata": {
  "kernelspec": {
   "display_name": "Python 3",
   "language": "python",
   "name": "python3"
  },
  "language_info": {
   "codemirror_mode": {
    "name": "ipython",
    "version": 3
   },
   "file_extension": ".py",
   "mimetype": "text/x-python",
   "name": "python",
   "nbconvert_exporter": "python",
   "pygments_lexer": "ipython3",
   "version": "3.13.7"
  }
 },
 "nbformat": 4,
 "nbformat_minor": 4
}
